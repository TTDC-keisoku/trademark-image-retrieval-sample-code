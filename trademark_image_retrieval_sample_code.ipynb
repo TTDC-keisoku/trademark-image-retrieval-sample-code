{
  "cells": [
    {
      "cell_type": "markdown",
      "source": [
        "# 概要\n",
        "類似商標画像検索に向けたモデル学習・最近傍探索のサンプルコードです。  \n",
        "Nishika「[AI×商標：イメージサーチコンペティション](https://www.nishika.com/competitions/22/summary)」のデータで学習し、[Google Material Icons](https://fonts.google.com/icons)で画像検索結果を検証しています。\n",
        "\n",
        "（Google CoLaboratoryで動作確認）"
      ],
      "metadata": {
        "id": "DvvZLsF9tUge"
      },
      "id": "DvvZLsF9tUge"
    },
    {
      "cell_type": "markdown",
      "source": [
        "# 事前準備\n",
        "Nishika「[AI×商標：イメージサーチコンペティション](https://www.nishika.com/competitions/22/summary)」のデータをダウンロードし、任意のディレクトリに保存します。  \n",
        "zipファイルは解凍しておきます。\n",
        "\n",
        "```\n",
        "（保存例）\n",
        "input\n",
        "│   train.csv\n",
        "│\n",
        "└───apply_images\n",
        "│   │   ...\n",
        "│   \n",
        "└───cite_images\n",
        "　   │   ...\n",
        "```\n"
      ],
      "metadata": {
        "id": "GlGK8ikib7Tk"
      },
      "id": "GlGK8ikib7Tk"
    },
    {
      "cell_type": "markdown",
      "id": "cd1aded2-1770-4eec-9928-814b8adbc657",
      "metadata": {
        "id": "cd1aded2-1770-4eec-9928-814b8adbc657",
        "papermill": {
          "duration": 0.055614,
          "end_time": "2021-11-13T22:45:43.708358",
          "exception": false,
          "start_time": "2021-11-13T22:45:43.652744",
          "status": "completed"
        },
        "tags": []
      },
      "source": [
        "# 必要なライブラリのインストール"
      ]
    },
    {
      "cell_type": "code",
      "source": [
        "!pip install pytorch-metric-learning faiss-cpu timm\n",
        "!pip install albumentations==0.4.6"
      ],
      "metadata": {
        "id": "mJwfLigU2rnI"
      },
      "execution_count": null,
      "outputs": [],
      "id": "mJwfLigU2rnI"
    },
    {
      "cell_type": "code",
      "source": [
        "# albumentationsのインストールを反映させるために、google colabを強制再起動\n",
        "import os\n",
        "os._exit(00)"
      ],
      "metadata": {
        "id": "L8bfNAA-onWZ"
      },
      "id": "L8bfNAA-onWZ",
      "execution_count": null,
      "outputs": []
    },
    {
      "cell_type": "markdown",
      "id": "23ee3ec3-d976-4c24-9a24-2bea8afbaba6",
      "metadata": {
        "id": "23ee3ec3-d976-4c24-9a24-2bea8afbaba6"
      },
      "source": [
        "# 学習設定"
      ]
    },
    {
      "cell_type": "code",
      "execution_count": null,
      "id": "ed19137e-8510-4057-a44f-5815dc753005",
      "metadata": {
        "id": "ed19137e-8510-4057-a44f-5815dc753005"
      },
      "outputs": [],
      "source": [
        "# backboneなどの学習設定\n",
        "\n",
        "class CFG:\n",
        "    exp_name = 'tutorial'   # 実験名(モデル出力フォルダ名)\n",
        "    device = 'cuda'         # GPU設定\n",
        "    seed = 82               # random seed\n",
        "    print_freq = 50         # 学習状況のログ出力周期\n",
        "    eval_freq = 100         # 学習時の検証データ スコアリング周期\n",
        "    num_folds = 4           # 交差検証用の学習、検証データ分割数(fold)\n",
        "    train_fold = [0,1,2,3]  # 学習するfold番号\n",
        "    # train_fold = [0]\n",
        "    \n",
        "    epochs = 10             # 学習回数\n",
        "    apex = True             # [option] Mixed Precision有効化（省メモリ化）\n",
        "    gradient_accumulation_steps = 1 # [option] 指定した回数分lossを蓄積してbackword\n",
        "                                    #（batchサイズを大きくしたいがメモリが乗らない,等の際に使用）\n",
        "    \n",
        "    backbone = 'resnet34d'  # backbone種類\n",
        "    embed_dim = 512         # 特徴量の次元数\n",
        "\n",
        "    img_size = 224          # モデルに入力する画像サイズ\n",
        "    batch_size = 16         # batchサイズ\n",
        "    num_workers = 4         # dataloaderのnum_workers\n",
        "    \n",
        "    lr = 1e-3               # 学習率\n",
        "    warmup_steps_rate = 0.1 # [option] 学習率スケジューラのwarmups設定"
      ]
    },
    {
      "cell_type": "markdown",
      "id": "8b417769-a8c1-4f6d-a4e3-202bdcae41c3",
      "metadata": {
        "id": "8b417769-a8c1-4f6d-a4e3-202bdcae41c3"
      },
      "source": [
        "# ライブラリのImport"
      ]
    },
    {
      "cell_type": "code",
      "execution_count": null,
      "id": "ec3e1975-8a15-40b8-8f52-6a5f2b716de6",
      "metadata": {
        "id": "ec3e1975-8a15-40b8-8f52-6a5f2b716de6"
      },
      "outputs": [],
      "source": [
        "import os\n",
        "import gc\n",
        "import json\n",
        "import yaml\n",
        "import copy\n",
        "import time\n",
        "import glob\n",
        "import math\n",
        "import shutil\n",
        "import random\n",
        "import itertools\n",
        "import typing as tp\n",
        "from pathlib import Path\n",
        "from joblib import Parallel, delayed\n",
        "from logging import getLogger, INFO, StreamHandler, FileHandler, Formatter\n",
        "\n",
        "import pandas as pd\n",
        "import numpy as np\n",
        "import matplotlib.pyplot as plt\n",
        "\n",
        "import cv2\n",
        "from PIL import Image, ImageOps\n",
        "from tqdm.notebook import tqdm\n",
        "\n",
        "from sklearn.model_selection import KFold, GroupKFold\n",
        "\n",
        "import torch\n",
        "from torch import nn\n",
        "import torch.nn.functional as F\n",
        "from torch.utils.data import DataLoader, Dataset\n",
        "from torch.optim import Optimizer, AdamW\n",
        "from torch.optim.lr_scheduler import LambdaLR, CosineAnnealingWarmRestarts\n",
        "\n",
        "from pytorch_metric_learning import losses\n",
        "\n",
        "import timm\n",
        "import albumentations as A\n",
        "from albumentations.pytorch import ToTensorV2\n",
        "\n",
        "import faiss\n",
        "\n",
        "import warnings\n",
        "warnings.simplefilter('ignore')"
      ]
    },
    {
      "cell_type": "markdown",
      "source": [
        "# ディレクトリ設定"
      ],
      "metadata": {
        "id": "P2Eu_VQ-fKDo"
      },
      "id": "P2Eu_VQ-fKDo"
    },
    {
      "cell_type": "code",
      "source": [
        "# Google Driveと接続\n",
        "from google.colab import drive\n",
        "drive.mount('/content/drive')"
      ],
      "metadata": {
        "id": "y-o_JPmxjrfh"
      },
      "execution_count": null,
      "outputs": [],
      "id": "y-o_JPmxjrfh"
    },
    {
      "cell_type": "code",
      "execution_count": null,
      "id": "8776b82a-a0ad-4dc7-81cc-18346cd689cd",
      "metadata": {
        "id": "8776b82a-a0ad-4dc7-81cc-18346cd689cd"
      },
      "outputs": [],
      "source": [
        "# データ、モデル出力先 設定\n",
        "INPUT_DIR = '/content/drive/MyDrive/Colab_Notebooks/nishika/patent/input/'\n",
        "OUTPUT_DIR = f'/content/drive/MyDrive/Colab_Notebooks/nishika/patent/{CFG.exp_name}/'\n",
        "\n",
        "if not os.path.exists(OUTPUT_DIR):\n",
        "    os.makedirs(OUTPUT_DIR)"
      ]
    },
    {
      "cell_type": "markdown",
      "id": "081c8188-6270-4391-a4e3-b6a630623e5b",
      "metadata": {
        "id": "081c8188-6270-4391-a4e3-b6a630623e5b"
      },
      "source": [
        "# 汎用的な関数"
      ]
    },
    {
      "cell_type": "code",
      "execution_count": null,
      "id": "c41df501-90e0-4913-b21c-72f722e89185",
      "metadata": {
        "id": "c41df501-90e0-4913-b21c-72f722e89185"
      },
      "outputs": [],
      "source": [
        "# ref : https://www.kaggle.com/code/yasufuminakama/pppm-deberta-v3-large-baseline-w-w-b-train\n",
        "\n",
        "def get_logger(filename=OUTPUT_DIR+'train'):\n",
        "    logger = getLogger(__name__)\n",
        "    logger.setLevel(INFO)\n",
        "    handler1 = StreamHandler()\n",
        "    handler1.setFormatter(Formatter(\"%(message)s\"))\n",
        "    handler2 = FileHandler(filename=f\"{filename}.log\")\n",
        "    handler2.setFormatter(Formatter(\"%(message)s\"))\n",
        "    logger.addHandler(handler1)\n",
        "    logger.addHandler(handler2)\n",
        "    return logger\n",
        "\n",
        "LOGGER = get_logger()\n",
        "\n",
        "\n",
        "def seed_everything(seed=42):\n",
        "    LOGGER.info(f'seed_everything : {seed}')\n",
        "    random.seed(seed)\n",
        "    os.environ['PYTHONHASHSEED'] = str(seed)\n",
        "    np.random.seed(seed)\n",
        "    torch.manual_seed(seed)\n",
        "    torch.cuda.manual_seed(seed)\n",
        "    torch.backends.cudnn.deterministic = True\n",
        "    \n",
        "seed_everything(seed=CFG.seed)"
      ]
    },
    {
      "cell_type": "code",
      "execution_count": null,
      "metadata": {
        "id": "75acd093-f24e-4f92-b010-5f7b94424826"
      },
      "outputs": [],
      "source": [
        "# 最近傍探索\n",
        "\n",
        "class FaissKNeighbors:\n",
        "    def __init__(self, k=20):\n",
        "        self.index = None\n",
        "        self.d = None\n",
        "        self.k = k\n",
        "\n",
        "    def fit(self, X):\n",
        "        X = X.copy(order='C')\n",
        "        self.d = X.shape[1]\n",
        "        X = X.astype(np.float32)\n",
        "        self.index = faiss.IndexFlatIP(self.d) # cosine\n",
        "        faiss.normalize_L2(X)\n",
        "        self.index.add(X)\n",
        "\n",
        "    def predict(self, X):\n",
        "        X = X.copy(order='C')\n",
        "        X = np.reshape(X, (-1, self.d))\n",
        "        X = X.astype(np.float32)\n",
        "        faiss.normalize_L2(X)\n",
        "        distances, indices = self.index.search(X, k=self.k)\n",
        "        if X.shape[0] == 1:\n",
        "            return distances[0], indices[0]\n",
        "        else:\n",
        "            return distances, indices"
      ],
      "id": "75acd093-f24e-4f92-b010-5f7b94424826"
    },
    {
      "cell_type": "markdown",
      "id": "2f1fe486-bd39-47b6-9363-222cad2f92c6",
      "metadata": {
        "id": "2f1fe486-bd39-47b6-9363-222cad2f92c6"
      },
      "source": [
        "# データ読み込み"
      ]
    },
    {
      "cell_type": "code",
      "execution_count": null,
      "id": "7d0d45fa-4f86-4f98-b6f0-0245a54c88ab",
      "metadata": {
        "id": "7d0d45fa-4f86-4f98-b6f0-0245a54c88ab"
      },
      "outputs": [],
      "source": [
        "df_train = pd.read_csv(INPUT_DIR + \"train.csv\")"
      ]
    },
    {
      "cell_type": "code",
      "execution_count": null,
      "id": "90fcdd92-8d84-4c1e-bab5-d6c233891f59",
      "metadata": {
        "id": "90fcdd92-8d84-4c1e-bab5-d6c233891f59"
      },
      "outputs": [],
      "source": [
        "print(df_train.shape)\n",
        "df_train.head()"
      ]
    },
    {
      "cell_type": "markdown",
      "id": "bd0e3cb0-1f2c-48f3-9510-f3aa16948661",
      "metadata": {
        "id": "bd0e3cb0-1f2c-48f3-9510-f3aa16948661"
      },
      "source": [
        "# 前処理"
      ]
    },
    {
      "cell_type": "code",
      "execution_count": null,
      "id": "a966bcd8-7cf4-4c3a-9e5d-2d935cb42f4d",
      "metadata": {
        "id": "a966bcd8-7cf4-4c3a-9e5d-2d935cb42f4d"
      },
      "outputs": [],
      "source": [
        "# アノテーションが重複する画像をグループ化\n",
        "\n",
        "dic_id2label = {}\n",
        "for i, (r_id, c_id) in tqdm(enumerate(zip(df_train['gid'].values, df_train['cite_gid'].values))):\n",
        "    label = None\n",
        "    if r_id in dic_id2label.keys():\n",
        "        label = dic_id2label[r_id]\n",
        "    elif c_id in dic_id2label.keys():\n",
        "        label = dic_id2label[c_id]\n",
        "        \n",
        "    if label:\n",
        "        dic_id2label[r_id] = label\n",
        "        dic_id2label[c_id] = label\n",
        "    else:\n",
        "        dic_id2label[r_id] = i\n",
        "        dic_id2label[c_id] = i\n",
        "\n",
        "df_train['label'] = df_train['gid']\n",
        "df_train['label'] = df_train['label'].map(dic_id2label)"
      ]
    },
    {
      "cell_type": "code",
      "execution_count": null,
      "id": "20c8eff0-975b-420f-b47c-13a21219c3e9",
      "metadata": {
        "id": "20c8eff0-975b-420f-b47c-13a21219c3e9"
      },
      "outputs": [],
      "source": [
        "# 余白除去\n",
        "# ref : https://www.nishika.com/competitions/22/topics/169\n",
        "\n",
        "def image_trimming(path):\n",
        "    img = cv2.imread(path)\n",
        "    gray = cv2.cvtColor(img, cv2.COLOR_BGR2GRAY)\n",
        "    img2 = cv2.threshold(gray, 240, 255, cv2.THRESH_BINARY)[1]\n",
        "    contours = cv2.findContours(img2, cv2.RETR_TREE, cv2.CHAIN_APPROX_SIMPLE)[0]\n",
        "    x1 = [] #x座標の最小値\n",
        "    y1 = [] #y座標の最小値\n",
        "    x2 = [] #x座標の最大値\n",
        "    y2 = [] #y座標の最大値\n",
        "    for i in range(1, len(contours)):\n",
        "        ret = cv2.boundingRect(contours[i])\n",
        "        x1.append(ret[0])\n",
        "        y1.append(ret[1])\n",
        "        x2.append(ret[0] + ret[2])\n",
        "        y2.append(ret[1] + ret[3])\n",
        "\n",
        "    if x1:\n",
        "        x1_min = min(x1)\n",
        "        y1_min = min(y1)\n",
        "        x2_max = max(x2)\n",
        "        y2_max = max(y2)\n",
        "        crop_img = img[y1_min:y2_max, x1_min:x2_max]\n",
        "        # crop後の画像が小さすぎる場合は、cropしない\n",
        "        if np.min([crop_img.shape[0],crop_img.shape[1]]) < 50:\n",
        "            if (crop_img.shape[0]*crop_img.shape[1]) < (img.shape[0]*img.shape[1]*0.1):\n",
        "                crop_img = img\n",
        "    else:\n",
        "        crop_img = img\n",
        "    return crop_img"
      ]
    },
    {
      "cell_type": "code",
      "execution_count": null,
      "id": "a91adfd4-3a0c-4d6d-a4b2-6a477e1db4a7",
      "metadata": {
        "id": "a91adfd4-3a0c-4d6d-a4b2-6a477e1db4a7"
      },
      "outputs": [],
      "source": [
        "def trimming_and_save(input):\n",
        "    input_path, output_path, output_dir = input\n",
        "    crop_img = image_trimming(input_path)\n",
        "    if not os.path.exists(output_dir):\n",
        "        os.makedirs(output_dir)\n",
        "    cv2.imwrite(output_path, crop_img)\n",
        "    return"
      ]
    },
    {
      "cell_type": "code",
      "execution_count": null,
      "id": "9a247fff-804a-463a-ae85-5bde504cadee",
      "metadata": {
        "id": "9a247fff-804a-463a-ae85-5bde504cadee"
      },
      "outputs": [],
      "source": [
        "## 画像の余白除去し、crop_xx ディレクトリへ保存する\n",
        "\n",
        "def preprocess(dir_name, img_paths):\n",
        "    base_input_path = INPUT_DIR + f'{dir_name}/'\n",
        "    input_paths = [base_input_path+path for path in img_paths]\n",
        "    output_paths = []\n",
        "    inputs = []\n",
        "    for input_path in tqdm(input_paths):\n",
        "        output_path = INPUT_DIR + f'trim_{dir_name}/' + '/'.join(input_path.split('/')[-2:])\n",
        "        output_dir = INPUT_DIR + f'trim_{dir_name}/' + input_path.split('/')[-2]\n",
        "        output_paths.append(output_path)\n",
        "        inputs.append([input_path, output_path, output_dir])\n",
        "    _ = Parallel(n_jobs=-1)(delayed(trimming_and_save)(input) for input in tqdm(inputs)) # 並列処理"
      ]
    },
    {
      "cell_type": "code",
      "execution_count": null,
      "id": "dd9ef13c-7ef5-4478-a420-8e41b9092c3e",
      "metadata": {
        "id": "dd9ef13c-7ef5-4478-a420-8e41b9092c3e"
      },
      "outputs": [],
      "source": [
        "def show_img_pair(img1, img2):\n",
        "    plt.subplot(1, 2, 1)\n",
        "    plt.imshow(img1)\n",
        "    plt.title('Original')\n",
        "    plt.xticks([])\n",
        "    plt.yticks([])\n",
        "    \n",
        "    plt.subplot(1, 2, 2)\n",
        "    plt.imshow(img2)\n",
        "    plt.title('Triming')\n",
        "    plt.xticks([])\n",
        "    plt.yticks([])\n",
        "\n",
        "    plt.tight_layout()\n",
        "    plt.show()"
      ]
    },
    {
      "cell_type": "code",
      "execution_count": null,
      "id": "234d2f71-744f-40b3-b2d6-0b5711d5fab3",
      "metadata": {
        "id": "234d2f71-744f-40b3-b2d6-0b5711d5fab3"
      },
      "outputs": [],
      "source": [
        "preprocess('apply_images', df_train['path'].values)\n",
        "preprocess('cite_images', df_train['cite_path'].values)"
      ]
    },
    {
      "cell_type": "code",
      "execution_count": null,
      "id": "ee9a6675-c8a6-4093-ae1d-e4c5b7e51174",
      "metadata": {
        "scrolled": true,
        "tags": [],
        "id": "ee9a6675-c8a6-4093-ae1d-e4c5b7e51174"
      },
      "outputs": [],
      "source": [
        "# 余白除去結果の確認\n",
        "for img_path in df_train['path'][:5]:\n",
        "    ori_img = Image.open(INPUT_DIR + f'apply_images/{img_path}').convert('RGB')\n",
        "    trim_img = Image.open(INPUT_DIR + f'trim_apply_images/{img_path}').convert('RGB')\n",
        "    show_img_pair(ori_img, trim_img)"
      ]
    },
    {
      "cell_type": "markdown",
      "id": "2fb6c074-4543-4481-b3c6-0980623e56f2",
      "metadata": {
        "id": "2fb6c074-4543-4481-b3c6-0980623e56f2"
      },
      "source": [
        "# 交差検証"
      ]
    },
    {
      "cell_type": "code",
      "execution_count": null,
      "id": "da508313-0b17-457f-85ef-e82898a7b16a",
      "metadata": {
        "id": "da508313-0b17-457f-85ef-e82898a7b16a"
      },
      "outputs": [],
      "source": [
        "# ref : https://github.com/ghmagazine/kagglebook/blob/3d8509d1c1b41a765e3f4744ba1fb226188e2b15/ch05/ch05-01-validation.py#L143\n",
        "# 学習データと評価データの分割\n",
        "# sklearnのGroupKFoldではseed値によらず分割パターンが固定であるため、Kfoldを使用してseed値対応\n",
        "\n",
        "unique_labels = df_train['label'].unique()\n",
        "df_train['fold'] = -1\n",
        "\n",
        "Fold = KFold(n_splits=CFG.num_folds, shuffle=True, random_state=CFG.seed)\n",
        "for n, (tr_group_idx, val_group_idx) in enumerate(Fold.split(unique_labels)):\n",
        "    tr_groups, val_groups = unique_labels[tr_group_idx], unique_labels[val_group_idx]\n",
        "    df_train.loc[df_train['label'].isin(val_groups), 'fold'] = int(n)\n",
        "df_train['fold'] = df_train['fold'].astype(int)\n",
        "display(df_train.groupby('fold').size())"
      ]
    },
    {
      "cell_type": "markdown",
      "id": "05587327-8610-4a49-b592-6469e0c53c93",
      "metadata": {
        "id": "05587327-8610-4a49-b592-6469e0c53c93"
      },
      "source": [
        "# Augmentation、画像整形 "
      ]
    },
    {
      "cell_type": "code",
      "execution_count": null,
      "id": "df468863-377e-4b4d-8d41-2070dc46616d",
      "metadata": {
        "id": "df468863-377e-4b4d-8d41-2070dc46616d"
      },
      "outputs": [],
      "source": [
        "IMAGENET_MEAN = [0.485, 0.456, 0.406]  # RGB\n",
        "IMAGENET_STD = [0.229, 0.224, 0.225]  # RGB\n",
        "\n",
        "def train_transform():\n",
        "    transform = A.Compose(\n",
        "        [\n",
        "            # 画像整形\n",
        "            A.LongestMaxSize(p=1.0, max_size=CFG.img_size, interpolation=2),\n",
        "            A.PadIfNeeded(p=1.0, min_height=CFG.img_size, min_width=CFG.img_size, border_mode=0, value=[255, 255, 255]),\n",
        "            \n",
        "            # Augmentaion\n",
        "            A.RandomResizedCrop(p=0.5, height=CFG.img_size, width=CFG.img_size, scale=[0.7, 1.0]),\n",
        "            A.ImageCompression(p=0.5, quality_lower=1, quality_upper=50),\n",
        "            A.RGBShift(p=0.5),\n",
        "            A.ToGray(p=0.5),\n",
        "            A.HorizontalFlip(p=0.5),\n",
        "            \n",
        "            A.Normalize(mean=IMAGENET_MEAN, std=IMAGENET_STD),\n",
        "            ToTensorV2()\n",
        "        ]\n",
        "    )\n",
        "    return transform\n",
        "\n",
        "def test_transform():\n",
        "    transform = A.Compose(\n",
        "        [\n",
        "            # 画像整形\n",
        "            A.LongestMaxSize(p=1.0, max_size=CFG.img_size, interpolation=2),\n",
        "            A.PadIfNeeded(p=1.0, min_height=CFG.img_size, min_width=CFG.img_size, border_mode=0, value=[255, 255, 255]),\n",
        "            \n",
        "            A.Normalize(mean=IMAGENET_MEAN, std=IMAGENET_STD),\n",
        "            ToTensorV2()\n",
        "        ]\n",
        "    )\n",
        "    return transform"
      ]
    },
    {
      "cell_type": "code",
      "execution_count": null,
      "id": "925ac165-6e0d-4bc8-a72f-bf6cef79ba40",
      "metadata": {
        "scrolled": true,
        "tags": [],
        "id": "925ac165-6e0d-4bc8-a72f-bf6cef79ba40"
      },
      "outputs": [],
      "source": [
        "# Augmentaion結果の確認\n",
        "tmp = train_transform()\n",
        "for _ in range(10):\n",
        "    aug_img = tmp(image=np.array(ori_img))['image']\n",
        "    show_img_pair(ori_img, aug_img.permute(1,2,0))"
      ]
    },
    {
      "cell_type": "code",
      "execution_count": null,
      "id": "8d3cbf94-3892-44bc-8596-52743a2d0965",
      "metadata": {
        "scrolled": true,
        "tags": [],
        "id": "8d3cbf94-3892-44bc-8596-52743a2d0965"
      },
      "outputs": [],
      "source": [
        "tmp = test_transform()\n",
        "for _ in range(10):\n",
        "    aug_img = tmp(image=np.array(ori_img))['image']\n",
        "    show_img_pair(ori_img, aug_img.permute(1,2,0))"
      ]
    },
    {
      "cell_type": "markdown",
      "id": "c598a517-a52b-483f-9674-f8ec1922c782",
      "metadata": {
        "id": "c598a517-a52b-483f-9674-f8ec1922c782"
      },
      "source": [
        "# Dataset"
      ]
    },
    {
      "cell_type": "code",
      "execution_count": null,
      "id": "efbb214d-3eab-45f7-a22e-d23d4ccdd18e",
      "metadata": {
        "id": "efbb214d-3eab-45f7-a22e-d23d4ccdd18e"
      },
      "outputs": [],
      "source": [
        "class TrademarkDataset(Dataset):\n",
        "    def __init__(self, df, train_mode=False):\n",
        "        self.path = df[\"path\"].values\n",
        "        self.cite_path = df[\"cite_path\"].values\n",
        "        self.label = df[\"label\"].values\n",
        "        self.transform = train_transform() if train_mode else test_transform()\n",
        "        self.train_mode = train_mode\n",
        "\n",
        "    def __len__(self):\n",
        "        return len(self.path)\n",
        "\n",
        "    def __getitem__(self, idx):\n",
        "        path, cite_path = self.path[idx], self.cite_path[idx]\n",
        "        img = self._read_image(INPUT_DIR + f'trim_apply_images/{path}')\n",
        "        cite_img = self._read_image(INPUT_DIR + f'trim_cite_images/{cite_path}')\n",
        "        imgs = [self.transform(image=img)['image']] + [self.transform(image=cite_img)['image']]\n",
        "        if self.train_mode:\n",
        "            imgs += [self.transform(image=img)['image']] + [self.transform(image=cite_img)['image']]\n",
        "        return {'images':imgs, 'labels':self.label[idx]}\n",
        "                \n",
        "    def _read_image(self, path):\n",
        "        img = Image.open(path)\n",
        "        img = img.convert('RGB')\n",
        "        img = np.array(img)\n",
        "        return img"
      ]
    },
    {
      "cell_type": "code",
      "execution_count": null,
      "id": "29531ccf-7611-4da9-a34d-92c4659e3423",
      "metadata": {
        "id": "29531ccf-7611-4da9-a34d-92c4659e3423"
      },
      "outputs": [],
      "source": [
        "class TrademarkDatasetForInference(Dataset):\n",
        "    def __init__(self, df, path_col):\n",
        "        self.path = df[path_col].values\n",
        "        self.transform = test_transform()\n",
        "        if 'cite' in path_col:\n",
        "            self.dir_name = 'cite_images'\n",
        "        else:\n",
        "            self.dir_name = 'apply_images'\n",
        "\n",
        "    def __len__(self):\n",
        "        return len(self.path)\n",
        "\n",
        "    def __getitem__(self, idx):\n",
        "        path = self.path[idx]\n",
        "        img = self._read_image(INPUT_DIR + f'trim_{self.dir_name}/{path}')\n",
        "        imgs = self.transform(image=img)['image']\n",
        "        \n",
        "        return {'images':imgs}\n",
        "                \n",
        "    def _read_image(self, path):\n",
        "        img = Image.open(path)\n",
        "        img = img.convert('RGB')\n",
        "        img = np.array(img)\n",
        "        return img"
      ]
    },
    {
      "cell_type": "markdown",
      "id": "64851ca1-6c77-435a-b845-aa71d52d8a05",
      "metadata": {
        "id": "64851ca1-6c77-435a-b845-aa71d52d8a05"
      },
      "source": [
        "# Model"
      ]
    },
    {
      "cell_type": "code",
      "execution_count": null,
      "id": "59102972-0a19-4d5f-ba81-a564b3ced20f",
      "metadata": {
        "id": "59102972-0a19-4d5f-ba81-a564b3ced20f"
      },
      "outputs": [],
      "source": [
        "# ref : https://github.com/ChristofHenkel/kaggle-landmark-2021-1st-place/blob/main/models/ch_mdl_dolg_efficientnet.py#L162\n",
        "\n",
        "def gem(x, p=3, eps=1e-6):\n",
        "    return F.avg_pool2d(x.clamp(min=eps).pow(p), (x.size(-2), x.size(-1))).pow(1./p)\n",
        "\n",
        "class GeM(nn.Module):\n",
        "    def __init__(self, p=3, eps=1e-6, p_trainable=False):\n",
        "        super(GeM,self).__init__()\n",
        "        if p_trainable:\n",
        "            self.p = Parameter(torch.ones(1)*p)\n",
        "        else:\n",
        "            self.p = p\n",
        "        self.eps = eps\n",
        "\n",
        "    def forward(self, x):\n",
        "        ret = gem(x, p=self.p, eps=self.eps)   \n",
        "        return ret\n",
        "    def __repr__(self):\n",
        "        return self.__class__.__name__ + '(' + 'p=' + '{:.4f}'.format(self.p.data.tolist()[0]) + ', ' + 'eps=' + str(self.eps) + ')'"
      ]
    },
    {
      "cell_type": "code",
      "execution_count": null,
      "id": "2d9246c8-2126-4e99-970c-7dea205d060a",
      "metadata": {
        "id": "2d9246c8-2126-4e99-970c-7dea205d060a"
      },
      "outputs": [],
      "source": [
        "# ref：https://www.kaggle.com/code/ttahara/rerun-seti-e-t-resnet18d-baseline?scriptVersionId=68360235&cellId=17\n",
        "# ref：https://github.com/lyakaap/ISC21-Descriptor-Track-1st/blob/6e3a51be54e1aae8f41a1703bc75da7c143b5c53/exp/v83.py#L103\n",
        "# ref : https://github.com/ChristofHenkel/kaggle-landmark-2021-1st-place/blob/main/models/ch_mdl_dolg_efficientnet.py\n",
        "\n",
        "class ImageEmbeddingModel(nn.Module):\n",
        "    def __init__(self):\n",
        "        super().__init__()\n",
        "        \n",
        "        if hasattr(timm.models, CFG.backbone):\n",
        "            base_model = timm.create_model(\n",
        "                CFG.backbone,\n",
        "                num_classes=0,\n",
        "                pretrained=True,\n",
        "                in_chans=3,\n",
        "                global_pool=\"\",\n",
        "                drop_path_rate=0.0)\n",
        "            in_features = base_model.num_features\n",
        "        else:\n",
        "            raise NotImplementedError\n",
        "\n",
        "        self.backbone = base_model\n",
        "        self.global_pool = GeM(p=3, p_trainable=False)\n",
        "        self.head = nn.Sequential(\n",
        "                nn.Linear(in_features, CFG.embed_dim,  bias=False),\n",
        "                nn.BatchNorm1d(CFG.embed_dim),\n",
        "                torch.nn.PReLU()\n",
        "            )\n",
        "\n",
        "    def forward(self, x):\n",
        "        x = self.backbone(x)\n",
        "        x = self.global_pool(x)\n",
        "        x = x[:,:,0,0]\n",
        "        x = self.head(x)\n",
        "        x = F.normalize(x)\n",
        "        return x"
      ]
    },
    {
      "cell_type": "markdown",
      "id": "cb9b5fe3-db0d-41d6-be22-c09f3e1a52a1",
      "metadata": {
        "id": "cb9b5fe3-db0d-41d6-be22-c09f3e1a52a1"
      },
      "source": [
        "# 学習用関数"
      ]
    },
    {
      "cell_type": "code",
      "execution_count": null,
      "id": "cf1e2d57-07eb-4849-a700-669cadaea703",
      "metadata": {
        "id": "cf1e2d57-07eb-4849-a700-669cadaea703"
      },
      "outputs": [],
      "source": [
        "# ref : https://www.kaggle.com/code/yasufuminakama/pppm-deberta-v3-large-baseline-w-w-b-train?scriptVersionId=90923371&cellId=31\n",
        "\n",
        "# ====================================================\n",
        "# Helper functions\n",
        "# ====================================================\n",
        "class AverageMeter(object):\n",
        "    \"\"\"Computes and stores the average and current value\"\"\"\n",
        "    def __init__(self):\n",
        "        self.reset()\n",
        "\n",
        "    def reset(self):\n",
        "        self.val = 0\n",
        "        self.avg = 0\n",
        "        self.sum = 0\n",
        "        self.count = 0\n",
        "\n",
        "    def update(self, val, n=1):\n",
        "        self.val = val\n",
        "        self.sum += val * n\n",
        "        self.count += n\n",
        "        self.avg = self.sum / self.count\n",
        "\n",
        "\n",
        "def asMinutes(s):\n",
        "    m = math.floor(s / 60)\n",
        "    s -= m * 60\n",
        "    return '%dm %ds' % (m, s)\n",
        "\n",
        "\n",
        "def timeSince(since, percent):\n",
        "    now = time.time()\n",
        "    s = now - since\n",
        "    es = s / (percent)\n",
        "    rs = es - s\n",
        "    return '%s (remain %s)' % (asMinutes(s), asMinutes(rs))"
      ]
    },
    {
      "cell_type": "code",
      "execution_count": null,
      "id": "a8353e25-7819-4b1c-a5dd-7a163f996b85",
      "metadata": {
        "id": "a8353e25-7819-4b1c-a5dd-7a163f996b85"
      },
      "outputs": [],
      "source": [
        "# ref : https://www.kaggle.com/code/yasufuminakama/pppm-deberta-v3-large-baseline-w-w-b-train?scriptVersionId=90923371&cellId=31\n",
        "\n",
        "def train_w_eval_fn(fold, train_loader, valid_loader, model, criterion, optimizer, epoch, scheduler, device, best_score):\n",
        "    model.train()\n",
        "    scaler = torch.cuda.amp.GradScaler(enabled=CFG.apex)\n",
        "    losses = AverageMeter()\n",
        "    start = end = time.time()\n",
        "    global_step = 0\n",
        "    for step, (batch) in enumerate(train_loader):\n",
        "        images, labels = batch['images'], batch['labels']\n",
        "        images = torch.cat([image for image in images], dim=0)\n",
        "        labels = torch.tile(labels, dims=(4,))\n",
        "        images = images.to(device)\n",
        "        labels = labels.to(device)\n",
        "        batch_size = labels.size(0)\n",
        "        with torch.cuda.amp.autocast(enabled=CFG.apex):\n",
        "            embeddings = model(images)\n",
        "        loss = criterion(embeddings, labels)\n",
        "        if CFG.gradient_accumulation_steps > 1:\n",
        "            loss = loss / CFG.gradient_accumulation_steps\n",
        "        losses.update(loss.item(), batch_size)\n",
        "        scaler.scale(loss).backward()\n",
        "        if (step + 1) % CFG.gradient_accumulation_steps == 0:\n",
        "            scaler.step(optimizer)\n",
        "            scaler.update()\n",
        "            optimizer.zero_grad()\n",
        "            global_step += 1\n",
        "            scheduler.step()\n",
        "        end = time.time()\n",
        "        if step % CFG.print_freq == 0 or step == (len(train_loader)-1):\n",
        "            print('Epoch: [{0}][{1}/{2}] '\n",
        "                  'Elapsed {remain:s} '\n",
        "                  'Loss: {loss.val:.4f}({loss.avg:.4f}) '\n",
        "                  'LR: {lr:.8f}  '\n",
        "                  .format(epoch+1, step, len(train_loader), \n",
        "                          remain=timeSince(start, float(step+1)/len(train_loader)),\n",
        "                          loss=losses,\n",
        "                          lr=scheduler.get_lr()[0]))\n",
        "        if (step % CFG.eval_freq == 0 or step == (len(train_loader)-1))&(step > 0):\n",
        "            best_score = eval_fn(fold, valid_loader, model, device, best_score)\n",
        "            model.train()\n",
        "    elapsed = time.time() - start\n",
        "    LOGGER.info(f'Epoch {epoch+1} - avg_train_loss: {losses.avg:.4f}  time: {elapsed:.0f}s')\n",
        "    return best_score\n",
        "\n",
        "\n",
        "def eval_fn(fold, valid_loader, model, device, best_score):\n",
        "    print('Eval Start')\n",
        "    model.eval()\n",
        "    start = end = time.time()\n",
        "    print('Make Embedding')\n",
        "    score = get_score(model, fold, device)\n",
        "    elapsed = time.time() - start\n",
        "    LOGGER.info(f'Score: {score:.4f}  time: {elapsed:.0f}s')\n",
        "    if score > best_score:\n",
        "        LOGGER.info(f'***** Save Best {score:.4f} Model *****')\n",
        "        torch.save({'model': model.state_dict()},\n",
        "                   OUTPUT_DIR+f\"fold{fold}_best.pth\")\n",
        "        best_score = score\n",
        "    else:\n",
        "        LOGGER.info(f'Score: {score:.4f}. No improve from {best_score:.4f} Model')\n",
        "    return best_score\n",
        "\n",
        "\n",
        "# train, validation間でペア関係を判定できているか確認\n",
        "def get_score(model, fold, device):\n",
        "    valid_folds = df_train[df_train['fold'] == fold].reset_index(drop=True)    \n",
        "    cite_dataset = TrademarkDatasetForInference(df_train, 'cite_path')\n",
        "    query_dataset = TrademarkDatasetForInference(valid_folds, 'path')\n",
        "    cite_loader = DataLoader(cite_dataset,\n",
        "                              batch_size=CFG.batch_size,\n",
        "                              shuffle=False,\n",
        "                              num_workers=CFG.num_workers, pin_memory=True, drop_last=False)\n",
        "    query_loader = DataLoader(query_dataset,\n",
        "                              batch_size=CFG.batch_size,\n",
        "                              shuffle=False,\n",
        "                              num_workers=CFG.num_workers, pin_memory=True, drop_last=False)\n",
        "    cite_embeddings = inference_fn(cite_loader, model, device)\n",
        "    query_embeddings = inference_fn(query_loader, model, device)\n",
        "    \n",
        "    kn = FaissKNeighbors()\n",
        "    kn.fit(cite_embeddings)\n",
        "    dist, idxs = kn.predict(query_embeddings)\n",
        "    cnt = 0\n",
        "    for n, idx in tqdm(enumerate(idxs)):\n",
        "        cites = [df_train['cite_gid'].iloc[i] for i in idx]\n",
        "        if valid_folds['cite_gid'].iloc[n] in cites:\n",
        "            cnt += 1\n",
        "    score = cnt/len(valid_folds)\n",
        "    return score\n",
        "    \n",
        "    \n",
        "def inference_fn(data_loader, model, device):\n",
        "    preds = []\n",
        "    model.eval()\n",
        "    model.to(device)\n",
        "    tk0 = tqdm(data_loader, total=len(data_loader))\n",
        "    for batch in tk0:\n",
        "        images = batch['images'].to(device)\n",
        "        with torch.no_grad():\n",
        "            embeddings = model(images)\n",
        "        preds.append(embeddings.to('cpu').numpy())\n",
        "    predictions = np.concatenate(preds)\n",
        "    return predictions"
      ]
    },
    {
      "cell_type": "code",
      "execution_count": null,
      "id": "daf1a154-385b-4f7a-a5ac-eb2d46b72b03",
      "metadata": {
        "id": "daf1a154-385b-4f7a-a5ac-eb2d46b72b03"
      },
      "outputs": [],
      "source": [
        "# 学習率スケジューラ\n",
        "# ref : https://github.com/huggingface/transformers/blob/d0acc9537829e7d067edbb791473bbceb2ecf056/src/transformers/optimization.py#L104\n",
        "\n",
        "def get_cosine_schedule_with_warmup(\n",
        "    optimizer: Optimizer, num_warmup_steps: int, num_training_steps: int, num_cycles: float = 0.5, last_epoch: int = -1\n",
        "):\n",
        "    \"\"\"\n",
        "    Create a schedule with a learning rate that decreases following the values of the cosine function between the\n",
        "    initial lr set in the optimizer to 0, after a warmup period during which it increases linearly between 0 and the\n",
        "    initial lr set in the optimizer.\n",
        "    Args:\n",
        "        optimizer ([`~torch.optim.Optimizer`]):\n",
        "            The optimizer for which to schedule the learning rate.\n",
        "        num_warmup_steps (`int`):\n",
        "            The number of steps for the warmup phase.\n",
        "        num_training_steps (`int`):\n",
        "            The total number of training steps.\n",
        "        num_cycles (`float`, *optional*, defaults to 0.5):\n",
        "            The number of waves in the cosine schedule (the defaults is to just decrease from the max value to 0\n",
        "            following a half-cosine).\n",
        "        last_epoch (`int`, *optional*, defaults to -1):\n",
        "            The index of the last epoch when resuming training.\n",
        "    Return:\n",
        "        `torch.optim.lr_scheduler.LambdaLR` with the appropriate schedule.\n",
        "    \"\"\"\n",
        "\n",
        "    def lr_lambda(current_step):\n",
        "        if current_step < num_warmup_steps:\n",
        "            return float(current_step) / float(max(1, num_warmup_steps))\n",
        "        progress = float(current_step - num_warmup_steps) / float(max(1, num_training_steps - num_warmup_steps))\n",
        "        return max(0.0, 0.5 * (1.0 + math.cos(math.pi * float(num_cycles) * 2.0 * progress)))\n",
        "\n",
        "    return LambdaLR(optimizer, lr_lambda, last_epoch)"
      ]
    },
    {
      "cell_type": "code",
      "execution_count": null,
      "id": "2daef0ff-9cc1-4ca3-bad7-4b25792f8677",
      "metadata": {
        "id": "2daef0ff-9cc1-4ca3-bad7-4b25792f8677"
      },
      "outputs": [],
      "source": [
        "# ====================================================\n",
        "# train loop\n",
        "# ====================================================\n",
        "def train_loop(folds, fold):\n",
        "    \n",
        "    LOGGER.info(f\"========== fold: {fold} training ==========\")\n",
        "\n",
        "    device = CFG.device\n",
        "    # ====================================================\n",
        "    # loader\n",
        "    # ====================================================\n",
        "    train_folds = folds[folds['fold'] != fold].reset_index(drop=True)\n",
        "    valid_folds = folds[folds['fold'] == fold].reset_index(drop=True)\n",
        "    \n",
        "    train_dataset = TrademarkDataset(train_folds, train_mode=True)\n",
        "    valid_dataset = TrademarkDataset(valid_folds, train_mode=False)\n",
        "\n",
        "    train_loader = DataLoader(train_dataset,\n",
        "                              batch_size=CFG.batch_size,\n",
        "                              shuffle=True,\n",
        "                              num_workers=CFG.num_workers, pin_memory=True, drop_last=True)\n",
        "    valid_loader = DataLoader(valid_dataset,\n",
        "                              batch_size=CFG.batch_size,\n",
        "                              shuffle=False,\n",
        "                              num_workers=CFG.num_workers, pin_memory=True, drop_last=False)\n",
        "\n",
        "    # ====================================================\n",
        "    # model & optimizer\n",
        "    # ====================================================\n",
        "    model = ImageEmbeddingModel()\n",
        "    model.to(device)\n",
        "    \n",
        "    optimizer = AdamW(model.parameters(), lr=CFG.lr)\n",
        "    \n",
        "    # ====================================================\n",
        "    # scheduler\n",
        "    # ====================================================\n",
        "    num_train_steps = int(len(train_folds) / CFG.batch_size * CFG.epochs)\n",
        "    num_warmup_steps = int(num_train_steps * CFG.warmup_steps_rate)\n",
        "    \n",
        "    scheduler = get_cosine_schedule_with_warmup(optimizer,\n",
        "                                                num_warmup_steps=num_warmup_steps,\n",
        "                                                num_training_steps=num_train_steps)\n",
        "    \n",
        "    # ====================================================\n",
        "    # loop\n",
        "    # ====================================================\n",
        "    criterion = losses.MultiSimilarityLoss()\n",
        "    criterion = losses.CrossBatchMemory(criterion,\n",
        "                                        memory_size=1024,\n",
        "                                        embedding_size=CFG.embed_dim)\n",
        "    best_score = 0.\n",
        "    for epoch in range(CFG.epochs):\n",
        "        best_score = train_w_eval_fn(fold, train_loader, valid_loader, model, criterion, optimizer, epoch, scheduler, device, best_score)\n",
        "    torch.cuda.empty_cache()\n",
        "    gc.collect()"
      ]
    },
    {
      "cell_type": "markdown",
      "source": [
        "# 学習"
      ],
      "metadata": {
        "id": "_S_hURzkg-Go"
      },
      "id": "_S_hURzkg-Go"
    },
    {
      "cell_type": "code",
      "execution_count": null,
      "id": "f8befe4d-dd69-4845-ab13-0d5336acea83",
      "metadata": {
        "scrolled": true,
        "tags": [],
        "id": "f8befe4d-dd69-4845-ab13-0d5336acea83"
      },
      "outputs": [],
      "source": [
        "for fold in range(CFG.num_folds):\n",
        "    if fold in CFG.train_fold:\n",
        "        train_loop(df_train, fold)"
      ]
    },
    {
      "cell_type": "markdown",
      "id": "3d93f4a1-b88a-4a47-b232-b5a23365062a",
      "metadata": {
        "id": "3d93f4a1-b88a-4a47-b232-b5a23365062a"
      },
      "source": [
        "# 検証"
      ]
    },
    {
      "cell_type": "code",
      "execution_count": null,
      "id": "5a3b212e-46bc-4646-8bb1-e050b2addbb6",
      "metadata": {
        "id": "5a3b212e-46bc-4646-8bb1-e050b2addbb6"
      },
      "outputs": [],
      "source": [
        "# Material Iconをダウンロード\n",
        "!git clone https://github.com/google/material-design-icons.git"
      ]
    },
    {
      "cell_type": "code",
      "execution_count": null,
      "id": "c1d62d05-a303-4682-9bb3-9e32fa7ae3c4",
      "metadata": {
        "id": "c1d62d05-a303-4682-9bb3-9e32fa7ae3c4"
      },
      "outputs": [],
      "source": [
        "# pngファイルを一つのフォルダに集約\n",
        "SAVE_DIR = './material-design-icons_png/'\n",
        "if not os.path.exists(SAVE_DIR):\n",
        "    os.makedirs(SAVE_DIR)\n",
        "\n",
        "file_lists = glob.glob('./material-design-icons/png/*.png')\n",
        "for fd_path, sb_folder, sb_file in os.walk('./material-design-icons/png/'):\n",
        "    for fil in sb_file:\n",
        "        path = fd_path + '/' + fil\n",
        "        if '/'.join(path.split('/')[:-1]).endswith('materialicons/48dp/2x'):\n",
        "            shutil.copy(path, SAVE_DIR+f\"{path.split('/')[-1]}\")"
      ]
    },
    {
      "cell_type": "code",
      "execution_count": null,
      "id": "7770536f-b0c3-4268-8f11-5a17dc5f4874",
      "metadata": {
        "id": "7770536f-b0c3-4268-8f11-5a17dc5f4874"
      },
      "outputs": [],
      "source": [
        "material_fig_paths = glob.glob('./material-design-icons_png/*.png')\n",
        "material_fig_paths[:5]"
      ]
    },
    {
      "cell_type": "code",
      "execution_count": null,
      "id": "08e2376e-354d-4192-b792-33c3e310938e",
      "metadata": {
        "id": "08e2376e-354d-4192-b792-33c3e310938e"
      },
      "outputs": [],
      "source": [
        "def get_material_image(path):\n",
        "    img = Image.open(path)\n",
        "    mode = img.mode\n",
        "    if mode == 'P':\n",
        "        img = np.array(img)\n",
        "        img = np.array(img>0*255)\n",
        "        img = Image.fromarray(img).convert('RGB')\n",
        "        img = ImageOps.invert(img)\n",
        "        img = np.array(img)\n",
        "    elif mode == 'LA':\n",
        "        img = np.array(img)\n",
        "        img = Image.fromarray(img[:,:,-1]).convert('RGB')\n",
        "        img = ImageOps.invert(img)\n",
        "        img = np.array(img)\n",
        "    else:\n",
        "        img = np.array(img)\n",
        "        img = Image.fromarray(img[:,:,-1]).convert('RGB')\n",
        "        img = ImageOps.invert(img)\n",
        "        img = np.array(img)\n",
        "    return img"
      ]
    },
    {
      "cell_type": "code",
      "execution_count": null,
      "id": "206ee0c0-6fec-4dfc-958c-41768ffd9563",
      "metadata": {
        "id": "206ee0c0-6fec-4dfc-958c-41768ffd9563"
      },
      "outputs": [],
      "source": [
        "class MaterialDatasetForInference(Dataset):\n",
        "    def __init__(self, path):\n",
        "        self.path = path\n",
        "        self.transform = test_transform()\n",
        "\n",
        "    def __len__(self):\n",
        "        return len(self.path)\n",
        "\n",
        "    def __getitem__(self, idx):\n",
        "        path = self.path[idx]\n",
        "        img = get_material_image(path)\n",
        "        imgs = self.transform(image=img)['image']        \n",
        "        return {'images':imgs}"
      ]
    },
    {
      "cell_type": "code",
      "execution_count": null,
      "id": "ae330ead-01c4-408d-9f0a-f2c3699320f4",
      "metadata": {
        "id": "ae330ead-01c4-408d-9f0a-f2c3699320f4"
      },
      "outputs": [],
      "source": [
        "def get_material_embed(model, device, path):\n",
        "    material_dataset = MaterialDatasetForInference(path)\n",
        "    material_loader = DataLoader(material_dataset,\n",
        "                              batch_size=CFG.batch_size,\n",
        "                              shuffle=False,\n",
        "                              num_workers=CFG.num_workers, pin_memory=True, drop_last=False)\n",
        "    material_embeddings = inference_fn(material_loader, model, device)\n",
        "    return material_embeddings"
      ]
    },
    {
      "cell_type": "code",
      "execution_count": null,
      "id": "49906059-adbd-482f-8ac3-cfac23ac8362",
      "metadata": {
        "id": "49906059-adbd-482f-8ac3-cfac23ac8362"
      },
      "outputs": [],
      "source": [
        "# 画像特徴量の抽出\n",
        "material_embeddings = []\n",
        "for fold in range(CFG.num_folds):\n",
        "    if fold in CFG.train_fold:\n",
        "        model = ImageEmbeddingModel()\n",
        "        model.load_state_dict(torch.load(OUTPUT_DIR+f\"fold{fold}_best.pth\")['model'])\n",
        "        model.to(CFG.device)\n",
        "        material_embeddings.append(get_material_embed(model, CFG.device, material_fig_paths))\n",
        "material_embeddings = np.mean(material_embeddings, axis=0)"
      ]
    },
    {
      "cell_type": "code",
      "execution_count": null,
      "id": "21fce619-00f4-46e8-a6a3-53efe9664ee6",
      "metadata": {
        "id": "21fce619-00f4-46e8-a6a3-53efe9664ee6"
      },
      "outputs": [],
      "source": [
        "# 最近傍探索\n",
        "kn = FaissKNeighbors()\n",
        "kn.fit(material_embeddings)\n",
        "dist, idxs = kn.predict(material_embeddings)"
      ]
    },
    {
      "cell_type": "code",
      "execution_count": null,
      "id": "dcba8551-ebb0-447b-a89a-7c612ea0921b",
      "metadata": {
        "scrolled": true,
        "tags": [],
        "id": "dcba8551-ebb0-447b-a89a-7c612ea0921b"
      },
      "outputs": [],
      "source": [
        "# 検索結果を確認\n",
        "\n",
        "visualize_num = 10\n",
        "for n, (d, idx) in enumerate(zip(dist[:visualize_num], idxs[:visualize_num])):\n",
        "    plt.figure(figsize=(10,10))\n",
        "    plt.subplot(551)\n",
        "    img = get_material_image(material_fig_paths[n])\n",
        "    plt.imshow(img)\n",
        "    plt.title('Query')\n",
        "    for i, _idx in enumerate(idx):\n",
        "        plt.subplot(5,5,i+6)\n",
        "        img = get_material_image(material_fig_paths[_idx])\n",
        "        plt.imshow(img)\n",
        "        plt.title(np.round(d[i], 3))\n",
        "    plt.tight_layout()\n",
        "    plt.show()"
      ]
    },
    {
      "cell_type": "code",
      "source": [
        ""
      ],
      "metadata": {
        "id": "1LyrQPHn_-Un"
      },
      "id": "1LyrQPHn_-Un",
      "execution_count": null,
      "outputs": []
    }
  ],
  "metadata": {
    "kernelspec": {
      "display_name": "Python 3 (ipykernel)",
      "language": "python",
      "name": "python3"
    },
    "language_info": {
      "codemirror_mode": {
        "name": "ipython",
        "version": 3
      },
      "file_extension": ".py",
      "mimetype": "text/x-python",
      "name": "python",
      "nbconvert_exporter": "python",
      "pygments_lexer": "ipython3",
      "version": "3.7.12"
    },
    "colab": {
      "name": "trademark-image-retrieval-sample-code.ipynb",
      "provenance": [],
      "collapsed_sections": [],
      "toc_visible": true
    },
    "accelerator": "GPU",
    "gpuClass": "standard"
  },
  "nbformat": 4,
  "nbformat_minor": 5
}